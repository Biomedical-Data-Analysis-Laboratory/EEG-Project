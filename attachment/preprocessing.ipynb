{
 "cells": [
  {
   "cell_type": "code",
   "execution_count": 1,
   "id": "0ab4fb4c-093b-4b64-9b00-c3fbce58b597",
   "metadata": {
    "collapsed": false
   },
   "outputs": [],
   "source": [
    "%load_ext autoreload\n",
    "%autoreload 2"
   ]
  },
  {
   "cell_type": "code",
   "execution_count": 2,
   "id": "6840a06c-3da4-4cc2-b7a8-af1cecf41d7a",
   "metadata": {
    "collapsed": false
   },
   "outputs": [
    {
     "data": {
      "text/plain": [
       "'3.9.13 (tags/v3.9.13:6de2ca5, May 17 2022, 16:36:42) [MSC v.1929 64 bit (AMD64)]'"
      ]
     },
     "execution_count": 2,
     "metadata": {},
     "output_type": "execute_result"
    }
   ],
   "source": [
    "import sys\n",
    "sys.version"
   ]
  },
  {
   "cell_type": "markdown",
   "id": "8d55466d-be0b-4bd6-b5dc-ea5359d579fb",
   "metadata": {
    "collapsed": false
   },
   "source": [
    "Due to problems saving to numpy due to sequence problems due to\n",
    "inhomegeneous data, data was stored to pickle instead.  Change for\n",
    "this was made in preprocessing.py.  In the notebook, the function\n",
    "pkl_load was made for loading."
   ]
  },
  {
   "cell_type": "markdown",
   "id": "e90f573d-7f44-4dc3-a05a-67d2676d2c36",
   "metadata": {
    "collapsed": false
   },
   "source": [
    "# Importing modules\n",
    "The following commands should execute with no output"
   ]
  },
  {
   "cell_type": "code",
   "execution_count": 3,
   "id": "c99b0854-650e-4f0b-bde9-69b649dc8f43",
   "metadata": {
    "collapsed": false
   },
   "outputs": [],
   "source": [
    "import glob\n",
    "import mne\n",
    "from mne.preprocessing import ICA, EOGRegression\n",
    "import os\n",
    "import pickle\n",
    "import numpy as np\n",
    "import pandas as pd\n",
    "import matplotlib.pyplot as plt\n",
    "import warnings\n",
    "warnings.filterwarnings('ignore')"
   ]
  },
  {
   "cell_type": "code",
   "execution_count": 4,
   "id": "5c874ceb-f875-482e-842a-953a968a65d8",
   "metadata": {
    "collapsed": false
   },
   "outputs": [],
   "source": [
    "from preprocessing import preprocessing, readEpochDenoise\n",
    "from patient_data import patient_data\n",
    "from Hjorths import hjorths, getFeaturesIntoDataframe\n",
    "from ML import ML, get_ML_Results, highlight_max_clr, highlight_max_acc, plotCM\n",
    "from DL import EEGNet"
   ]
  },
  {
   "cell_type": "markdown",
   "id": "e0f73165-3a83-4c9d-a0c5-39becf21e352",
   "metadata": {
    "collapsed": false
   },
   "source": [
    "## Pre-processing\n",
    "### Splitting the features of Raw EEG data and assigning them to their correct subject group."
   ]
  },
  {
   "cell_type": "code",
   "execution_count": 5,
   "id": "bfec9eb0-c8f2-481e-9e5a-e1f2b6ce820b",
   "metadata": {
    "collapsed": false
   },
   "outputs": [
    {
     "name": "stdout",
     "output_type": "stream",
     "text": [
      "16 19 13 15 21\n"
     ]
    }
   ],
   "source": [
    "data_path = glob.glob('Raw/*.set')\n",
    "DLB      = [i for i in data_path if 'DLB' in i.split('\\\\')[1]]\n",
    "AD     = [i for i in data_path if 'F001' in i.split('\\\\')[1]]\n",
    "PDD     = [i for i in data_path if 'F023' in i.split('\\\\')[1]]\n",
    "PD      = [i for i in data_path if 'G20' in i.split('\\\\')[1]]\n",
    "HC = [i for i in data_path if 'Kontroll' in i.split('\\\\')[1]]\n",
    "\n",
    "print(len(DLB), len(AD), len(PDD), len(PD), len(HC))"
   ]
  },
  {
   "cell_type": "markdown",
   "id": "d1d7dd7b-008a-4340-9e71-47b6f6ddd762",
   "metadata": {
    "collapsed": false
   },
   "source": [
    "### In this section the RAW EEG data for each subject group have been read, pre-processed and saved into a file."
   ]
  },
  {
   "cell_type": "code",
   "execution_count": 6,
   "id": "87ceef4c-64cd-48b7-bdb8-eff594a5a996",
   "metadata": {
    "collapsed": false
   },
   "outputs": [],
   "source": [
    "# read, clean, and epoch all the data\n",
    "cleaned_data = readEpochDenoise(DLB, AD, PDD, PD, HC,  apply_wavelet = False, apply_notch = False)"
   ]
  },
  {
   "cell_type": "markdown",
   "id": "c88f6910-1cb8-41a4-9226-03778b7df71d",
   "metadata": {
    "collapsed": false
   },
   "source": [
    "Due to problems saving to numpy due to sequence problems due to\n",
    "inhomegeneous data, data was stored to pickle instead.  Change for\n",
    "this was made in preprocessing.py.  In the notebook, the function\n",
    "pkl_load was made for loading."
   ]
  },
  {
   "cell_type": "code",
   "execution_count": null,
   "id": "eaee7c4d-adb8-400a-a5d7-2433239d1268",
   "metadata": {
    "collapsed": false
   },
   "outputs": [],
   "source": [
    "# save the data belonging to the standard stimuli into a file with the same name\n",
    "cleaned_data.save_data(standard = True , target = False, distractor = False, \n",
    "                     reaction_time = False, all_stimuli = False)"
   ]
  },
  {
   "cell_type": "code",
   "execution_count": null,
   "id": "e3f6313a-c2f1-49aa-8c7c-2eded8894908",
   "metadata": {
    "collapsed": false
   },
   "outputs": [],
   "source": [
    "# save the data belonging to the target stimuli into file with the same name\n",
    "cleaned_data.save_data(standard = False , target = True, distractor = False, \n",
    "                     reaction_time = False, all_stimuli = False)"
   ]
  },
  {
   "cell_type": "code",
   "execution_count": null,
   "id": "438a396f-df65-4333-8102-f132344e43d3",
   "metadata": {
    "collapsed": false
   },
   "outputs": [],
   "source": [
    "# save the data belonging to the distractor stimuli into file with the same name\n",
    "cleaned_data.save_data(standard = False , target = False, distractor = True, \n",
    "                     reaction_time = False, all_stimuli = False)"
   ]
  },
  {
   "cell_type": "code",
   "execution_count": null,
   "id": "d77fdb4c-ac29-46d8-be09-7bcabb3580b0",
   "metadata": {
    "collapsed": false
   },
   "outputs": [],
   "source": [
    "# save the data belonging to the reaction_time into file with the same name\n",
    "cleaned_data.save_data(standard = False, target = False, distractor = False, \n",
    "                     reaction_time = True, all_stimuli = False)"
   ]
  },
  {
   "cell_type": "code",
   "execution_count": null,
   "id": "17bc4500-c40a-49d0-81c1-80a24839bb79",
   "metadata": {
    "collapsed": false
   },
   "outputs": [],
   "source": [
    "# save the data belonging to the all stimuli into file with the same name\n",
    "cleaned_data.save_data(standard = False , target = False, distractor = False, \n",
    "                     reaction_time = False, all_stimuli = True)"
   ]
  }
 ],
 "metadata": {
  "kernelspec": {
   "argv": [
    "C:\\.venv\\erp\\Scripts\\python.exe",
    "-m",
    "ipykernel_launcher",
    "-f",
    "{connection_file}"
   ],
   "display_name": "Python (erp)",
   "env": null,
   "interrupt_mode": "signal",
   "language": "python",
   "metadata": {
    "debugger": true
   },
   "name": "erp"
  },
  "name": "preprocessing.ipynb"
 },
 "nbformat": 4,
 "nbformat_minor": 5
}
