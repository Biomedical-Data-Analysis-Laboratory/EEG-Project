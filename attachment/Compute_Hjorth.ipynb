{
 "cells": [
  {
   "cell_type": "code",
   "execution_count": 21,
   "id": "81682d52-6553-4446-b653-66eb8eacbdde",
   "metadata": {
    "collapsed": false
   },
   "outputs": [
    {
     "name": "stdout",
     "output_type": "stream",
     "text": [
      "The autoreload extension is already loaded. To reload it, use:\n",
      "  %reload_ext autoreload\n"
     ]
    }
   ],
   "source": [
    "%load_ext autoreload\n",
    "%autoreload 2"
   ]
  },
  {
   "cell_type": "code",
   "execution_count": 22,
   "id": "dda65e07-c0e1-4eec-9492-7e0d34248cde",
   "metadata": {
    "collapsed": false
   },
   "outputs": [
    {
     "data": {
      "text/plain": [
       "'3.9.13 (tags/v3.9.13:6de2ca5, May 17 2022, 16:36:42) [MSC v.1929 64 bit (AMD64)]'"
      ]
     },
     "execution_count": 22,
     "metadata": {},
     "output_type": "execute_result"
    }
   ],
   "source": [
    "import sys\n",
    "sys.version"
   ]
  },
  {
   "cell_type": "markdown",
   "id": "bc90a7cf-7a98-4a7b-bd79-737ad4f43e3a",
   "metadata": {
    "collapsed": false
   },
   "source": [
    "# Importing modules\n",
    "The following commands should execute with no output"
   ]
  },
  {
   "cell_type": "code",
   "execution_count": 23,
   "id": "f35034cd-9094-4ab8-9c81-51d740d2b47e",
   "metadata": {
    "collapsed": false
   },
   "outputs": [],
   "source": [
    "import glob\n",
    "import mne\n",
    "from mne.preprocessing import ICA, EOGRegression\n",
    "import os\n",
    "import pickle\n",
    "import numpy as np\n",
    "import pandas as pd\n",
    "import matplotlib.pyplot as plt\n",
    "import warnings\n",
    "warnings.filterwarnings('ignore')"
   ]
  },
  {
   "cell_type": "code",
   "execution_count": 24,
   "id": "6ad79204-5f1d-4a86-9c62-79a8642efb3b",
   "metadata": {
    "collapsed": false
   },
   "outputs": [],
   "source": [
    "from preprocessing import preprocessing, readEpochDenoise\n",
    "from patient_data import patient_data\n",
    "from Hjorths import hjorths, getFeaturesIntoDataframe\n",
    "from ML import ML, get_ML_Results, highlight_max_clr, highlight_max_acc, plotCM\n",
    "from DL import EEGNet"
   ]
  },
  {
   "cell_type": "markdown",
   "id": "180d88cf-8f4c-4f08-bf23-9b00b9ca3651",
   "metadata": {
    "collapsed": false
   },
   "source": [
    "## Pre-processing\n",
    "### Splitting the features of Raw EEG data and assigning them to their correct subject group."
   ]
  },
  {
   "cell_type": "code",
   "execution_count": 25,
   "id": "b04f3b3e-c601-4253-9109-88f02ad93e13",
   "metadata": {
    "collapsed": false
   },
   "outputs": [
    {
     "name": "stdout",
     "output_type": "stream",
     "text": [
      "16 19 13 15 21\n"
     ]
    }
   ],
   "source": [
    "data_path = glob.glob('Raw/*.set')\n",
    "DLB      = [i for i in data_path if 'DLB' in i.split('\\\\')[1]]\n",
    "AD     = [i for i in data_path if 'F001' in i.split('\\\\')[1]]\n",
    "PDD     = [i for i in data_path if 'F023' in i.split('\\\\')[1]]\n",
    "PD      = [i for i in data_path if 'G20' in i.split('\\\\')[1]]\n",
    "HC = [i for i in data_path if 'Kontroll' in i.split('\\\\')[1]]\n",
    "\n",
    "print(len(DLB), len(AD), len(PDD), len(PD), len(HC))"
   ]
  },
  {
   "cell_type": "markdown",
   "id": "ae0e01f9-ba33-49ee-8295-e5b8140f3c6f",
   "metadata": {
    "collapsed": false
   },
   "source": [
    "### In this section the RAW EEG data for each subject group have been read, pre-processed and saved into a file."
   ]
  },
  {
   "cell_type": "code",
   "execution_count": 26,
   "id": "140c70fe-ebb9-41de-b54b-6c1631bec411",
   "metadata": {
    "collapsed": false
   },
   "outputs": [],
   "source": [
    "# read, clean, and epoch all the data\n",
    "if False:\n",
    "    cleaned_data = readEpochDenoise(DLB, AD, PDD, PD, HC,  apply_wavelet = False, apply_notch = False)"
   ]
  },
  {
   "cell_type": "markdown",
   "id": "efe175e8-196a-42f7-a3f5-7b77dc2dd82a",
   "metadata": {
    "collapsed": false
   },
   "source": [
    "## Load preprocessed data"
   ]
  },
  {
   "cell_type": "code",
   "execution_count": 27,
   "id": "61e34bce-e595-4b5c-ae57-e366c2101cea",
   "metadata": {
    "collapsed": false
   },
   "outputs": [],
   "source": [
    "groups = ['DLB', 'AD', 'PDD', 'PD', 'HC']\n",
    "events = ['Standard', 'Target', 'Distractor', ]"
   ]
  },
  {
   "cell_type": "code",
   "execution_count": 28,
   "id": "a8cd7771-cc7e-4cc1-b65b-9b95b04cf464",
   "metadata": {
    "collapsed": false
   },
   "outputs": [],
   "source": [
    "def pkl_load(pp_file):\n",
    "    with open(pp_file, 'rb') as handle:\n",
    "        v_out = np.array(pickle.load(handle), dtype=object)\n",
    "    return v_out\n"
   ]
  },
  {
   "cell_type": "code",
   "execution_count": 29,
   "id": "b204d660-d7ce-4581-90b3-eb7abbc9144d",
   "metadata": {
    "collapsed": false
   },
   "outputs": [
    {
     "name": "stdout",
     "output_type": "stream",
     "text": [
      "(16, 300, 9, 205) (19, 300, 9, 205) (13, 300, 9, 205) (15, 300, 9, 205) (21, 300, 9, 205)\n"
     ]
    }
   ],
   "source": [
    "# Standard epochs ica-cleaned\n",
    "ppdir = ''\n",
    "DLB_Standard  = pkl_load(ppdir+'preprocessed_data/Standard_DLB.pkl')\n",
    "AD_Standard   = pkl_load(ppdir+'preprocessed_data/Standard_AD.pkl')\n",
    "PDD_Standard  = pkl_load(ppdir+'preprocessed_data/Standard_PDD.pkl')\n",
    "PD_Standard   = pkl_load(ppdir+'preprocessed_data/Standard_PD.pkl')\n",
    "HC_Standard   = pkl_load(ppdir+'preprocessed_data/Standard_HC.pkl')\n",
    "print(np.array(DLB_Standard).shape , np.array(AD_Standard).shape , np.array(PDD_Standard).shape, np.array(PD_Standard).shape, np.array(HC_Standard).shape)"
   ]
  },
  {
   "cell_type": "code",
   "execution_count": 30,
   "id": "2d3ff218-6603-44ad-9676-f3b2a8b3940c",
   "metadata": {
    "collapsed": false
   },
   "outputs": [
    {
     "name": "stdout",
     "output_type": "stream",
     "text": [
      "(16,) (19,) (13,) (15,) (21, 75, 9, 205)\n"
     ]
    }
   ],
   "source": [
    "# target epochs \n",
    "ppdir = ''\n",
    "DLB_Target  = pkl_load(ppdir+'preprocessed_data/Target_DLB.pkl')\n",
    "AD_Target   = pkl_load(ppdir+'preprocessed_data/Target_AD.pkl')\n",
    "PDD_Target  = pkl_load(ppdir+'preprocessed_data/Target_PDD.pkl')\n",
    "PD_Target   = pkl_load(ppdir+'preprocessed_data/Target_PD.pkl')\n",
    "HC_Target   = pkl_load(ppdir+'preprocessed_data/Target_HC.pkl')\n",
    "print(DLB_Target.shape, AD_Target.shape, PDD_Target.shape, PD_Target.shape, HC_Target.shape)"
   ]
  },
  {
   "cell_type": "code",
   "execution_count": 31,
   "id": "8eb1787c-5133-427a-a9e4-c80adb62b0d3",
   "metadata": {
    "collapsed": false
   },
   "outputs": [
    {
     "name": "stdout",
     "output_type": "stream",
     "text": [
      "(16,) (19,) (13,) (15,) (21, 75, 9, 205)\n"
     ]
    }
   ],
   "source": [
    "# distractor epochs\n",
    "ppdir = ''\n",
    "DLB_Distractor  = pkl_load(ppdir+'preprocessed_data/Distractor_DLB.pkl')\n",
    "AD_Distractor   = pkl_load(ppdir+'preprocessed_data/Distractor_AD.pkl')\n",
    "PDD_Distractor  = pkl_load(ppdir+'preprocessed_data/Distractor_PDD.pkl')\n",
    "PD_Distractor   = pkl_load(ppdir+'preprocessed_data/Distractor_PD.pkl')\n",
    "HC_Distractor   = pkl_load(ppdir+'preprocessed_data/Distractor_HC.pkl')\n",
    "print(DLB_Distractor.shape, AD_Distractor.shape, PDD_Distractor.shape, PD_Distractor.shape, HC_Distractor.shape)"
   ]
  },
  {
   "cell_type": "markdown",
   "id": "38a8731d-49a3-4083-9ce1-9ffad52dfc1f",
   "metadata": {
    "collapsed": false
   },
   "source": [
    "## Compute Hjorth's parameters"
   ]
  },
  {
   "cell_type": "code",
   "execution_count": 32,
   "id": "2d9a6b65-8aaf-4660-bc5b-1f332371db58",
   "metadata": {
    "collapsed": false
   },
   "outputs": [],
   "source": [
    "# compute Hjorth's parameters for standard epochs\n",
    "DLB_HP_Standard = hjorths(DLB_Standard, average = False) # DLB\n",
    "AD_HP_Standard  = hjorths(AD_Standard, average = False) # AD\n",
    "PDD_HP_Standard = hjorths(PDD_Standard, average = False) # PD\n",
    "PD_HP_Standard  = hjorths(PD_Standard, average = False) # PDD\n",
    "HC_HP_Standard  = hjorths(HC_Standard, average = False) # HC"
   ]
  },
  {
   "cell_type": "code",
   "execution_count": 33,
   "id": "696b3e39-7024-4a37-8ead-56b54e15cf55",
   "metadata": {
    "collapsed": false
   },
   "outputs": [],
   "source": [
    "# compute Hjorth's parameters for target epochs\n",
    "DLB_HP_Target = hjorths(DLB_Target, average = False) # DLB\n",
    "AD_HP_Target  = hjorths(AD_Target, average = False) # AD\n",
    "PDD_HP_Target = hjorths(PDD_Target, average = False) # PD\n",
    "PD_HP_Target  = hjorths(PD_Target, average = False) # PDD\n",
    "HC_HP_Target  = hjorths(HC_Target, average = False) # HC"
   ]
  },
  {
   "cell_type": "code",
   "execution_count": 34,
   "id": "cc1c2e38-647f-4f0c-b45a-6a324fcc6fac",
   "metadata": {
    "collapsed": false
   },
   "outputs": [],
   "source": [
    "# compute Hjorth's parameters for distractor epochs\n",
    "DLB_HP_Distractor = hjorths(DLB_Distractor, average = False) # DLB \n",
    "AD_HP_Distractor  = hjorths(AD_Distractor, average = False)  # AD\n",
    "PDD_HP_Distractor = hjorths(PDD_Distractor, average = False) # PD \n",
    "PD_HP_Distractor  = hjorths(PD_Distractor, average = False)  # PDD\n",
    "HC_HP_Distractor  = hjorths(HC_Distractor, average = False) # HC"
   ]
  },
  {
   "cell_type": "code",
   "execution_count": 80,
   "id": "060ab411-ec50-40ff-ba92-52badc71fea4",
   "metadata": {
    "collapsed": false
   },
   "outputs": [
    {
     "data": {
      "text/plain": [
       "(300, 30)"
      ]
     },
     "execution_count": 80,
     "metadata": {},
     "output_type": "execute_result"
    }
   ],
   "source": [
    "gi = 0\n",
    "ei = 0\n",
    "pi = 0 # patient\n",
    "g = groups[gi]\n",
    "e = events[pi]\n",
    "\n",
    "#print(f'{g}_HP_{e}.hjorth_parameters')\n",
    "xh = eval(f'{g}_HP_{e}.hjorth_parameters')\n",
    "len(xh)\n",
    "x = np.array(xh[pi])\n",
    "Nh, Ne, Nc = x.shape\n",
    "p = np.array([gi, ei, pi])\n",
    "p = np.tile(p,(Ne,1))\n",
    "np.hstack((p, x[0], x[1], x[2])).shape\n"
   ]
  },
  {
   "cell_type": "code",
   "execution_count": 88,
   "id": "f685e51c-f464-4a08-9220-76d92aa15041",
   "metadata": {
    "collapsed": false
   },
   "outputs": [
    {
     "name": "stdout",
     "output_type": "stream",
     "text": [
      "['H0', 'H1', 'H2']\n",
      "['C0', 'C1', 'C2', 'C3', 'C4', 'C5', 'C6', 'C7', 'C8']\n",
      "['H0_C0', 'H0_C1', 'H0_C2', 'H0_C3', 'H0_C4', 'H0_C5', 'H0_C6', 'H0_C7', 'H0_C8', 'H1_C0', 'H1_C1', 'H1_C2', 'H1_C3', 'H1_C4', 'H1_C5', 'H1_C6', 'H1_C7', 'H1_C8', 'H2_C0', 'H2_C1', 'H2_C2', 'H2_C3', 'H2_C4', 'H2_C5', 'H2_C6', 'H2_C7', 'H2_C8']\n"
     ]
    },
    {
     "data": {
      "text/plain": [
       "['group',\n",
       " 'event',\n",
       " 'patient',\n",
       " 'H0_C0',\n",
       " 'H0_C1',\n",
       " 'H0_C2',\n",
       " 'H0_C3',\n",
       " 'H0_C4',\n",
       " 'H0_C5',\n",
       " 'H0_C6',\n",
       " 'H0_C7',\n",
       " 'H0_C8',\n",
       " 'H1_C0',\n",
       " 'H1_C1',\n",
       " 'H1_C2',\n",
       " 'H1_C3',\n",
       " 'H1_C4',\n",
       " 'H1_C5',\n",
       " 'H1_C6',\n",
       " 'H1_C7',\n",
       " 'H1_C8',\n",
       " 'H2_C0',\n",
       " 'H2_C1',\n",
       " 'H2_C2',\n",
       " 'H2_C3',\n",
       " 'H2_C4',\n",
       " 'H2_C5',\n",
       " 'H2_C6',\n",
       " 'H2_C7',\n",
       " 'H2_C8']"
      ]
     },
     "execution_count": 88,
     "metadata": {},
     "output_type": "execute_result"
    }
   ],
   "source": [
    "\n",
    "col = ['group', 'event', 'patient']\n",
    "hc = ['H'+str(i) for i in range(3)]\n",
    "cc = ['C'+str(i) for i in range(9)]\n",
    "print(hc)\n",
    "print(cc)\n",
    "    \n",
    "HC = [h+'_'+c for h in hc for c in cc]\n",
    "print(HC)\n",
    "cols = col + HC\n",
    "cols\n"
   ]
  },
  {
   "cell_type": "code",
   "execution_count": 121,
   "id": "72642c7d-2528-4e88-a0b8-f812bc7962b9",
   "metadata": {
    "collapsed": false
   },
   "outputs": [
    {
     "name": "stdout",
     "output_type": "stream",
     "text": [
      "DLB Standard Np =  16, Nh =  3, Ne = 300, Nc = 9\n",
      "(300, 30)\n",
      "(300, 30)\n",
      "(300, 30)\n",
      "(300, 30)\n",
      "(300, 30)\n",
      "(300, 30)\n",
      "(300, 30)\n",
      "(300, 30)\n",
      "(300, 30)\n",
      "(300, 30)\n",
      "(300, 30)\n",
      "(300, 30)\n",
      "(300, 30)\n",
      "(300, 30)\n",
      "(300, 30)\n",
      "(300, 30)\n",
      "DLB Target Np =  16, Nh =  3, Ne = 75, Nc = 9\n",
      "(75, 30)\n",
      "(75, 30)\n",
      "(75, 30)\n",
      "(75, 30)\n",
      "(75, 30)\n",
      "(75, 30)\n",
      "(75, 30)\n",
      "(75, 30)\n",
      "(75, 30)\n",
      "(75, 30)\n",
      "(75, 30)\n",
      "(75, 30)\n",
      "(75, 30)\n",
      "(75, 30)\n",
      "(60, 30)\n",
      "(75, 30)\n",
      "DLB Distractor Np =  16, Nh =  3, Ne = 75, Nc = 9\n",
      "(75, 30)\n",
      "(75, 30)\n",
      "(75, 30)\n",
      "(75, 30)\n",
      "(75, 30)\n",
      "(75, 30)\n",
      "(75, 30)\n",
      "(75, 30)\n",
      "(75, 30)\n",
      "(75, 30)\n",
      "(75, 30)\n",
      "(75, 30)\n",
      "(75, 30)\n",
      "(75, 30)\n",
      "(57, 30)\n",
      "(75, 30)\n",
      "AD Standard Np =  19, Nh =  3, Ne = 300, Nc = 9\n",
      "(300, 30)\n",
      "(300, 30)\n",
      "(300, 30)\n",
      "(300, 30)\n",
      "(300, 30)\n",
      "(300, 30)\n",
      "(300, 30)\n",
      "(300, 30)\n",
      "(300, 30)\n",
      "(300, 30)\n",
      "(300, 30)\n",
      "(300, 30)\n",
      "(300, 30)\n",
      "(300, 30)\n",
      "(300, 30)\n",
      "(300, 30)\n",
      "(300, 30)\n",
      "(300, 30)\n",
      "(300, 30)\n",
      "AD Target Np =  19, Nh =  3, Ne = 75, Nc = 9\n",
      "(75, 30)\n",
      "(33, 30)\n",
      "(75, 30)\n",
      "(61, 30)\n",
      "(75, 30)\n",
      "(75, 30)\n",
      "(75, 30)\n",
      "(75, 30)\n",
      "(75, 30)\n",
      "(75, 30)\n",
      "(75, 30)\n",
      "(75, 30)\n",
      "(75, 30)\n",
      "(75, 30)\n",
      "(75, 30)\n",
      "(75, 30)\n",
      "(75, 30)\n",
      "(75, 30)\n",
      "(75, 30)\n",
      "AD Distractor Np =  19, Nh =  3, Ne = 75, Nc = 9\n",
      "(75, 30)\n",
      "(65, 30)\n",
      "(75, 30)\n",
      "(73, 30)\n",
      "(75, 30)\n",
      "(75, 30)\n",
      "(75, 30)\n",
      "(75, 30)\n",
      "(75, 30)\n",
      "(75, 30)\n",
      "(75, 30)\n",
      "(75, 30)\n",
      "(75, 30)\n",
      "(75, 30)\n",
      "(75, 30)\n",
      "(75, 30)\n",
      "(75, 30)\n",
      "(75, 30)\n",
      "(75, 30)\n",
      "PDD Standard Np =  13, Nh =  3, Ne = 300, Nc = 9\n",
      "(300, 30)\n",
      "(300, 30)\n",
      "(300, 30)\n",
      "(300, 30)\n",
      "(300, 30)\n",
      "(300, 30)\n",
      "(300, 30)\n",
      "(300, 30)\n",
      "(300, 30)\n",
      "(300, 30)\n",
      "(300, 30)\n",
      "(300, 30)\n",
      "(300, 30)\n",
      "PDD Target Np =  13, Nh =  3, Ne = 75, Nc = 9\n",
      "(75, 30)\n",
      "(75, 30)\n",
      "(75, 30)\n",
      "(75, 30)\n",
      "(75, 30)\n",
      "(75, 30)\n",
      "(75, 30)\n",
      "(75, 30)\n",
      "(75, 30)\n",
      "(60, 30)\n",
      "(60, 30)\n",
      "(75, 30)\n",
      "(75, 30)\n",
      "PDD Distractor Np =  13, Nh =  3, Ne = 75, Nc = 9\n",
      "(75, 30)\n",
      "(75, 30)\n",
      "(75, 30)\n",
      "(75, 30)\n",
      "(75, 30)\n",
      "(75, 30)\n",
      "(75, 30)\n",
      "(75, 30)\n",
      "(75, 30)\n",
      "(57, 30)\n",
      "(56, 30)\n",
      "(75, 30)\n",
      "(75, 30)\n",
      "PD Standard Np =  15, Nh =  3, Ne = 300, Nc = 9\n",
      "(300, 30)\n",
      "(300, 30)\n",
      "(300, 30)\n",
      "(300, 30)\n",
      "(300, 30)\n",
      "(300, 30)\n",
      "(300, 30)\n",
      "(300, 30)\n",
      "(300, 30)\n",
      "(300, 30)\n",
      "(300, 30)\n",
      "(300, 30)\n",
      "(300, 30)\n",
      "(300, 30)\n",
      "(300, 30)\n",
      "PD Target Np =  15, Nh =  3, Ne = 75, Nc = 9\n",
      "(75, 30)\n",
      "(75, 30)\n",
      "(75, 30)\n",
      "(75, 30)\n",
      "(75, 30)\n",
      "(75, 30)\n",
      "(75, 30)\n",
      "(75, 30)\n",
      "(60, 30)\n",
      "(75, 30)\n",
      "(75, 30)\n",
      "(75, 30)\n",
      "(75, 30)\n",
      "(75, 30)\n",
      "(75, 30)\n",
      "PD Distractor Np =  15, Nh =  3, Ne = 75, Nc = 9\n",
      "(75, 30)\n",
      "(75, 30)\n",
      "(75, 30)\n",
      "(75, 30)\n",
      "(75, 30)\n",
      "(75, 30)\n",
      "(75, 30)\n",
      "(75, 30)\n",
      "(57, 30)\n",
      "(75, 30)\n",
      "(75, 30)\n",
      "(75, 30)\n",
      "(75, 30)\n",
      "(75, 30)\n",
      "(75, 30)\n",
      "HC Standard Np =  21, Nh =  3, Ne = 300, Nc = 9\n",
      "(300, 30)\n",
      "(300, 30)\n",
      "(300, 30)\n",
      "(300, 30)\n",
      "(300, 30)\n",
      "(300, 30)\n",
      "(300, 30)\n",
      "(300, 30)\n",
      "(300, 30)\n",
      "(300, 30)\n",
      "(300, 30)\n",
      "(300, 30)\n",
      "(300, 30)\n",
      "(300, 30)\n",
      "(300, 30)\n",
      "(300, 30)\n",
      "(300, 30)\n",
      "(300, 30)\n",
      "(300, 30)\n",
      "(300, 30)\n",
      "(300, 30)\n",
      "HC Target Np =  21, Nh =  3, Ne = 75, Nc = 9\n",
      "(75, 30)\n",
      "(75, 30)\n",
      "(75, 30)\n",
      "(75, 30)\n",
      "(75, 30)\n",
      "(75, 30)\n"
     ]
    },
    {
     "name": "stdout",
     "output_type": "stream",
     "text": [
      "(75, 30)\n",
      "(75, 30)\n",
      "(75, 30)\n",
      "(75, 30)\n",
      "(75, 30)\n",
      "(75, 30)\n",
      "(75, 30)\n",
      "(75, 30)\n",
      "(75, 30)\n",
      "(75, 30)\n",
      "(75, 30)\n",
      "(75, 30)\n",
      "(75, 30)\n",
      "(75, 30)\n",
      "(75, 30)\n",
      "HC Distractor Np =  21, Nh =  3, Ne = 75, Nc = 9\n",
      "(75, 30)\n",
      "(75, 30)\n",
      "(75, 30)\n",
      "(75, 30)\n",
      "(75, 30)\n",
      "(75, 30)\n",
      "(75, 30)\n",
      "(75, 30)\n",
      "(75, 30)\n",
      "(75, 30)\n",
      "(75, 30)\n",
      "(75, 30)\n",
      "(75, 30)\n",
      "(75, 30)\n",
      "(75, 30)\n",
      "(75, 30)\n",
      "(75, 30)\n",
      "(75, 30)\n",
      "(75, 30)\n",
      "(75, 30)\n",
      "(75, 30)\n"
     ]
    }
   ],
   "source": [
    "for gi, g in enumerate(groups):\n",
    "    for ei, e in enumerate(events):\n",
    "        \n",
    "        #print(f'{g}_HP_{e}')\n",
    "        xh = eval(f'{g}_HP_{e}.hjorth_parameters')\n",
    "        Np = len(xh)\n",
    "        \n",
    "        for pi in range(Np):\n",
    "            x = np.array(xh[pi])\n",
    "            Nh, Ne, Nc = x.shape # parameters epochs, channels\n",
    "            #print(Ne)\n",
    "            p = np.array([gi, ei, pi])\n",
    "            #print(p)\n",
    "            P = np.array(np.tile(p,(Ne,1)))\n",
    "            #print(P)\n",
    "            t = np.hstack((P, x[0], x[1], x[2]))\n",
    "            if pi == 0:    \n",
    "                print(f'{g} {e} Np =  {Np}, Nh =  {Nh}, Ne = {Ne}, Nc = {Nc}')\n",
    "            if gi == 0 and ei == 0 and pi == 0:\n",
    "                d = t\n",
    "            else:\n",
    "                d = np.append(d, t, axis = 0)\n",
    "            print(f'{t.shape}')\n",
    "\n",
    "\n",
    "\n",
    "\n",
    "                "
   ]
  },
  {
   "cell_type": "code",
   "execution_count": 129,
   "id": "139e6a8a-5108-4c26-ae8d-b9c8799b97c6",
   "metadata": {
    "collapsed": false
   },
   "outputs": [],
   "source": [
    "df = pd.DataFrame(d,columns=cols)\n",
    "df = df.astype({'group': int, 'event': int, 'patient': int})"
   ]
  },
  {
   "cell_type": "code",
   "execution_count": 132,
   "id": "3934a266-3930-4054-b2e1-767d7f31b413",
   "metadata": {
    "collapsed": false
   },
   "outputs": [
    {
     "name": "stdout",
     "output_type": "stream",
     "text": [
      "       group  event  patient         H0_C0         H0_C1         H0_C2  \\\n",
      "0          0      0        0  4.264041e-11  2.451439e-11  3.548383e-11   \n",
      "1          0      0        0  8.436027e-11  4.828491e-11  5.620093e-11   \n",
      "2          0      0        0  1.000064e-10  4.462723e-11  1.026924e-10   \n",
      "3          0      0        0  4.466278e-11  3.857130e-11  3.733267e-11   \n",
      "4          0      0        0  4.937119e-11  5.190647e-11  3.956241e-11   \n",
      "...      ...    ...      ...           ...           ...           ...   \n",
      "37594      4      2       20  5.904289e-12  4.220885e-12  4.868758e-12   \n",
      "37595      4      2       20  9.866072e-12  5.021750e-12  7.386896e-12   \n",
      "37596      4      2       20  8.437395e-12  6.951848e-12  8.270025e-12   \n",
      "37597      4      2       20  3.614260e-12  3.613806e-12  5.616614e-12   \n",
      "37598      4      2       20  5.838954e-12  5.430470e-12  7.670546e-12   \n",
      "\n",
      "              H0_C3         H0_C4         H0_C5         H0_C6  ...     H1_C8  \\\n",
      "0      6.760429e-11  5.379963e-11  2.948912e-11  2.496947e-11  ...  0.589647   \n",
      "1      1.120068e-10  1.065690e-10  6.743696e-11  3.921141e-11  ...  0.573179   \n",
      "2      1.204584e-10  1.097833e-10  5.754114e-11  6.027897e-11  ...  0.639075   \n",
      "3      3.712647e-11  4.004347e-11  3.347831e-11  3.683585e-11  ...  0.554653   \n",
      "4      4.433537e-11  4.372959e-11  3.133934e-11  2.755920e-11  ...  0.602086   \n",
      "...             ...           ...           ...           ...  ...       ...   \n",
      "37594  6.668155e-12  7.976254e-12  5.403010e-12  4.135521e-12  ...  0.712828   \n",
      "37595  1.107859e-11  1.422792e-11  6.637658e-12  6.821849e-12  ...  0.758880   \n",
      "37596  1.136291e-11  1.183359e-11  6.594011e-12  4.747379e-12  ...  0.816245   \n",
      "37597  6.692204e-12  8.813713e-12  5.911702e-12  2.984280e-11  ...  0.783603   \n",
      "37598  9.876400e-12  1.032842e-11  4.629877e-12  4.367611e-12  ...  0.810284   \n",
      "\n",
      "          H2_C0     H2_C1     H2_C2     H2_C3     H2_C4     H2_C5     H2_C6  \\\n",
      "0      1.638131  1.580221  1.598833  1.812378  1.715689  1.534336  1.612753   \n",
      "1      1.502071  1.558185  1.501557  1.606172  1.620702  1.488133  1.423715   \n",
      "2      1.411347  1.596379  1.495583  1.579442  1.585743  1.493751  1.451019   \n",
      "3      1.344924  1.555929  1.383551  1.364363  1.358083  1.385168  1.453875   \n",
      "4      1.358055  1.486560  1.385123  1.416223  1.389856  1.405420  1.304471   \n",
      "...         ...       ...       ...       ...       ...       ...       ...   \n",
      "37594  1.406606  1.367165  1.369775  1.401114  1.428768  1.388620  1.336082   \n",
      "37595  1.310469  1.362795  1.357579  1.313611  1.371590  1.385808  1.210148   \n",
      "37596  1.228317  1.379646  1.173145  1.264884  1.213371  1.200765  1.170785   \n",
      "37597  1.262207  1.314913  1.261997  1.441729  1.427395  1.377789  1.985704   \n",
      "37598  1.343031  1.301769  1.305009  1.366241  1.326696  1.271569  1.276019   \n",
      "\n",
      "          H2_C7     H2_C8  \n",
      "0      1.820491  1.538159  \n",
      "1      1.775973  1.522174  \n",
      "2      1.686097  1.357322  \n",
      "3      1.543382  1.527002  \n",
      "4      1.526844  1.518722  \n",
      "...         ...       ...  \n",
      "37594  1.210728  1.387149  \n",
      "37595  1.231256  1.255792  \n",
      "37596  1.257517  1.175691  \n",
      "37597  1.278239  1.259445  \n",
      "37598  1.447701  1.199676  \n",
      "\n",
      "[37599 rows x 30 columns]\n"
     ]
    }
   ],
   "source": [
    "print(df)"
   ]
  },
  {
   "cell_type": "code",
   "execution_count": 131,
   "id": "c224ee8c-fa64-4e74-a8e3-d30cefbfc035",
   "metadata": {
    "collapsed": false
   },
   "outputs": [],
   "source": [
    "df.to_csv('df_hjorth.csv')"
   ]
  }
 ],
 "metadata": {
  "kernelspec": {
   "argv": [
    "C:\\.venv\\erp\\Scripts\\python.exe",
    "-m",
    "ipykernel_launcher",
    "-f",
    "{connection_file}"
   ],
   "display_name": "Python (erp)",
   "env": null,
   "interrupt_mode": "signal",
   "language": "python",
   "metadata": {
    "debugger": true
   },
   "name": "erp"
  },
  "name": "Compute_Hjorth.ipynb"
 },
 "nbformat": 4,
 "nbformat_minor": 5
}
